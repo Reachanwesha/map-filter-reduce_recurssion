{
 "cells": [
  {
   "cell_type": "code",
   "execution_count": 5,
   "id": "dbcffae0",
   "metadata": {},
   "outputs": [
    {
     "name": "stdout",
     "output_type": "stream",
     "text": [
      "1\n",
      "2\n",
      "3\n",
      "4\n",
      "5\n",
      "6\n",
      "7\n",
      "8\n",
      "9\n",
      "10\n"
     ]
    }
   ],
   "source": [
    "#1.Write a Python program to print numbers from 1 to 10 using a for loop.\n",
    "for i in range(1,11):\n",
    "    print(i)"
   ]
  },
  {
   "cell_type": "code",
   "execution_count": 6,
   "id": "caa5929e",
   "metadata": {},
   "outputs": [],
   "source": [
    "#2.Explain the difference between a for loop and a while loop in Python.\n",
    "#for loop is used when the number of iterations is known, whereas execution is done in the while loop \n",
    "#until the statement in the program is proved wrong.\n",
    "\n"
   ]
  },
  {
   "cell_type": "code",
   "execution_count": 18,
   "id": "713d314d",
   "metadata": {},
   "outputs": [
    {
     "name": "stdout",
     "output_type": "stream",
     "text": [
      "5050\n"
     ]
    }
   ],
   "source": [
    "#3.Write a Python program to calculate the sum of all numbers from 1 to 100 using a for loop.\n",
    "sum_= 0\n",
    "for i in range(1,101):\n",
    "    sum_=sum_+(i)\n",
    "print(sum_)\n",
    "    "
   ]
  },
  {
   "cell_type": "code",
   "execution_count": 19,
   "id": "1d4b61f6",
   "metadata": {},
   "outputs": [
    {
     "name": "stdout",
     "output_type": "stream",
     "text": [
      "1\n",
      "2\n",
      "3\n",
      "4\n",
      "5\n",
      "6\n",
      "7\n",
      "8\n",
      "9\n"
     ]
    }
   ],
   "source": [
    "#4.How do you iterate through a list using a for loop in Python?\n",
    "mylist=[1,2,3,4,5,6,7,8,9]\n",
    "for i in mylist:\n",
    "    print(i)"
   ]
  },
  {
   "cell_type": "code",
   "execution_count": 41,
   "id": "e4d939d6",
   "metadata": {},
   "outputs": [
    {
     "name": "stdout",
     "output_type": "stream",
     "text": [
      "1\n",
      "4\n",
      "9\n",
      "16\n",
      "25\n",
      "36\n",
      "49\n",
      "64\n",
      "81\n"
     ]
    }
   ],
   "source": [
    "#Write a Python program to find the product of all elements in a list using a for loop.\n",
    "mylist=[1,2,3,4,5,6,7,8,9]\n",
    "product=0\n",
    "for i in mylist:\n",
    "    product=i*i\n",
    "    print(product)"
   ]
  },
  {
   "cell_type": "code",
   "execution_count": 57,
   "id": "5bc1ce1d",
   "metadata": {},
   "outputs": [
    {
     "name": "stdout",
     "output_type": "stream",
     "text": [
      "23772672\n"
     ]
    }
   ],
   "source": [
    "#Write a Python program to find the product of all elements in a list using a for loop.\n",
    "mylist=[2,4,67,8,33,6,7,4]\n",
    "product= 1\n",
    "for i in (mylist):\n",
    "    product=product*(i)\n",
    "print(product)\n",
    "\n",
    "\n"
   ]
  },
  {
   "cell_type": "code",
   "execution_count": 58,
   "id": "1e77a80f",
   "metadata": {},
   "outputs": [
    {
     "name": "stdout",
     "output_type": "stream",
     "text": [
      "2\n",
      "4\n",
      "6\n",
      "8\n",
      "10\n",
      "12\n",
      "14\n",
      "16\n",
      "18\n",
      "20\n"
     ]
    }
   ],
   "source": [
    "#Create a Python program that prints all even numbers from 1 to 20 using a for loop.\n",
    "for i in range(1,21):\n",
    "    if i%2==0 :\n",
    "        print(i)"
   ]
  },
  {
   "cell_type": "code",
   "execution_count": 80,
   "id": "3194f3cd",
   "metadata": {},
   "outputs": [
    {
     "name": "stdout",
     "output_type": "stream",
     "text": [
      "enter a number you want the factorial of : 8\n",
      "40320\n"
     ]
    }
   ],
   "source": [
    "#Write a Python program that calculates the factorial of a number using a for loop.\n",
    "#4!=4*3*2*1\n",
    "n = int(input('enter a number you want the factorial of : '))\n",
    "\n",
    "fact = 1\n",
    "for i in range(1,n+1):\n",
    "    fact = fact*i\n",
    "\n",
    "print(fact)"
   ]
  },
  {
   "cell_type": "code",
   "execution_count": 3,
   "id": "d08129a1",
   "metadata": {},
   "outputs": [
    {
     "name": "stdout",
     "output_type": "stream",
     "text": [
      "a\n",
      "p\n",
      "p\n",
      "l\n",
      "e\n",
      ",\n",
      "i\n",
      "c\n",
      "e\n",
      ",\n",
      "l\n",
      "e\n",
      "m\n",
      "o\n",
      "n\n",
      ",\n",
      "t\n",
      "r\n",
      "e\n",
      "e\n"
     ]
    }
   ],
   "source": [
    "#How can you iterate through the characters of a string using a for loop in Python?\n",
    "mystr = \"apple,ice,lemon,tree\"\n",
    "type(mystr)\n",
    "for i in mystr:\n",
    "    print(i)"
   ]
  },
  {
   "cell_type": "code",
   "execution_count": 7,
   "id": "ab56c4b3",
   "metadata": {},
   "outputs": [
    {
     "name": "stdout",
     "output_type": "stream",
     "text": [
      "5566\n"
     ]
    }
   ],
   "source": [
    "#Write a Python program to find the largest number in a list using a for loop.\n",
    "mylst=[2,34,4,5,65,3,5566,4,4667,654,56]\n",
    "print(max(mylst))"
   ]
  },
  {
   "cell_type": "code",
   "execution_count": 4,
   "id": "0b2f56d5",
   "metadata": {},
   "outputs": [
    {
     "name": "stdout",
     "output_type": "stream",
     "text": [
      "enter the number : 20\n",
      "Fibonacci sequence:\n",
      "0\n",
      "1\n",
      "1\n",
      "2\n",
      "3\n",
      "5\n",
      "8\n",
      "13\n",
      "21\n",
      "34\n",
      "55\n",
      "89\n",
      "144\n",
      "233\n",
      "377\n",
      "610\n",
      "987\n",
      "1597\n",
      "2584\n",
      "4181\n"
     ]
    }
   ],
   "source": [
    "#10 Create a Python program that prints the Fibonacci sequence up to a\n",
    "#specified limit using a for loop.\n",
    "n=int(input('enter the number : '))\n",
    "def FibRec(n):  \n",
    "    if n <= 1:  \n",
    "        return n \n",
    "    else:  \n",
    "        return(FibRec(n-1) + FibRec(n-2))  \n",
    "if n <= 0:  \n",
    "    print(\"Please enter a positive integer\")  \n",
    "\n",
    "else:  \n",
    "    print(\"Fibonacci sequence:\")  \n",
    "\n",
    "for z in range(n):  \n",
    "    print(FibRec(z))"
   ]
  },
  {
   "cell_type": "code",
   "execution_count": 39,
   "id": "d6e1d2a0",
   "metadata": {},
   "outputs": [
    {
     "name": "stdout",
     "output_type": "stream",
     "text": [
      "Enter a string:pop\n",
      "There are 1 vowels in the string: 'pop'\n"
     ]
    }
   ],
   "source": [
    "#11 Write a Python program to count the number of vowels in a given string using a for loop.\n",
    "sentence = str(input('Enter a string:'))\n",
    "vowel = 'a,e,i,o,u'\n",
    "Count = 0\n",
    "for v in sentence:\n",
    "    for j in vowel:\n",
    "        if (v==j):\n",
    "            Count += 1\n",
    "print('There are {} vowels in the string: \\'{}\\''.format(Count,sentence))\n",
    "            "
   ]
  },
  {
   "cell_type": "code",
   "execution_count": 41,
   "id": "89e26edb",
   "metadata": {},
   "outputs": [
    {
     "name": "stdout",
     "output_type": "stream",
     "text": [
      "enter a number whose multplication table you want to print: 12\n",
      "12 x 0 = 0\n",
      "12 x 1 = 12\n",
      "12 x 2 = 24\n",
      "12 x 3 = 36\n",
      "12 x 4 = 48\n",
      "12 x 5 = 60\n",
      "12 x 6 = 72\n",
      "12 x 7 = 84\n",
      "12 x 8 = 96\n",
      "12 x 9 = 108\n",
      "12 x 10 = 120\n"
     ]
    }
   ],
   "source": [
    "#Create a Python program that generates a multiplication table for a given number \n",
    "#using a for loop.\n",
    "num = int(input('enter a number whose multplication table you want to print: '))\n",
    "for i in range(0,11):\n",
    "\n",
    "    print(num ,'x', i,'=',num*i)\n"
   ]
  },
  {
   "cell_type": "code",
   "execution_count": 43,
   "id": "40031711",
   "metadata": {},
   "outputs": [
    {
     "data": {
      "text/plain": [
       "['listen', 'you', 'are', 'nope', 'ugly']"
      ]
     },
     "execution_count": 43,
     "metadata": {},
     "output_type": "execute_result"
    }
   ],
   "source": [
    "#Write a Python program to reverse a list using a for loop.\n",
    "a = ['ugly','nope','are','you','listen']\n",
    "a[::-1]"
   ]
  },
  {
   "cell_type": "code",
   "execution_count": 46,
   "id": "459c1c85",
   "metadata": {},
   "outputs": [
    {
     "name": "stdout",
     "output_type": "stream",
     "text": [
      "3\n",
      "5\n",
      "5\n",
      "6\n",
      "7\n",
      "m\n",
      "3\n"
     ]
    }
   ],
   "source": [
    "#Write a Python program to find the common elements between two lists using a for loop.\n",
    "list1 = [1,2,3,4,5,6,7,85,'m',3,2,2,4]\n",
    "list2 = [23,'k',34,5,543,6,7,5,'m',3,554]\n",
    "for i in list1:\n",
    "    for j in list2:\n",
    "        if (i==j):\n",
    "            print(i)"
   ]
  },
  {
   "cell_type": "code",
   "execution_count": 59,
   "id": "e458e18c",
   "metadata": {},
   "outputs": [
    {
     "name": "stdout",
     "output_type": "stream",
     "text": [
      "dict_values(['values', 'girl', 'boy'])\n",
      "dict_keys(['key', 'ani', 'anish'])\n",
      "dict_values(['values', 'girl', 'boy'])\n",
      "dict_keys(['key', 'ani', 'anish'])\n",
      "dict_values(['values', 'girl', 'boy'])\n",
      "dict_keys(['key', 'ani', 'anish'])\n"
     ]
    }
   ],
   "source": [
    "#Explain how to use a for loop to iterate through the keys and values of a dictionary in Python.\n",
    "mydict = {'key':'values','ani':'girl','anish':'boy'}\n",
    "for i in mydict:\n",
    "    print(mydict.values())\n",
    "    print(mydict.keys())"
   ]
  },
  {
   "cell_type": "code",
   "execution_count": 64,
   "id": "519fc699",
   "metadata": {},
   "outputs": [
    {
     "name": "stdout",
     "output_type": "stream",
     "text": [
      "enter a number234\n",
      "enter a number34\n",
      "Greatest Common Divisor) of two numbers is 2\n"
     ]
    }
   ],
   "source": [
    "#Write a Python program to find the GCD (Greatest Common Divisor) of two numbers using a for loop.\n",
    "num1 = int(input('enter a number'))\n",
    "num2 = int(input('enter a number'))\n",
    "for i in range(1,min(num1,num2)):\n",
    "    if num1%i==0 and num2%i==0:\n",
    "               gcd=i\n",
    "print('Greatest Common Divisor of two numbers is', gcd)"
   ]
  },
  {
   "cell_type": "code",
   "execution_count": 66,
   "id": "e205e425",
   "metadata": {},
   "outputs": [
    {
     "name": "stdout",
     "output_type": "stream",
     "text": [
      "enter your str:wow\n",
      "palindrome\n"
     ]
    }
   ],
   "source": [
    "#Create a Python program that checks if a string is a palindrome using a for loop.\n",
    "mystr = str(input('enter your str:'))\n",
    "p_mystr= mystr[::-1]\n",
    "if p_mystr== mystr[::-1]:\n",
    "    print('palindrome')\n",
    "else:\n",
    "    print('not palindrome')"
   ]
  },
  {
   "cell_type": "code",
   "execution_count": 12,
   "id": "6a8d4d63",
   "metadata": {},
   "outputs": [
    {
     "name": "stdout",
     "output_type": "stream",
     "text": [
      "[23, 54, 45, 65, 43, 4, 5654, 5678, 765]\n"
     ]
    }
   ],
   "source": [
    "#Write a Python program to remove duplicates from a list using a for loop.\n",
    "mylst = [23,54,45,65,43,23,4,43,45,5654,5678,765]\n",
    "newlst=[]\n",
    "for i in mylst:\n",
    "    if i  not in newlst:\n",
    "        newlst.append(i)\n",
    "print(newlst)\n",
    "    \n",
    "    "
   ]
  },
  {
   "cell_type": "code",
   "execution_count": 19,
   "id": "b6049ac8",
   "metadata": {},
   "outputs": [
    {
     "name": "stdout",
     "output_type": "stream",
     "text": [
      "enter your sentence: this is a word\n",
      "4\n"
     ]
    }
   ],
   "source": [
    "#Create a Python program that counts the number of words in a sentence using a for loop.\n",
    "mysen = input('enter your sentence: ')\n",
    "count=1\n",
    "for i in mysen:\n",
    "    if (i==' '):\n",
    "        count+=1\n",
    "print(count)"
   ]
  },
  {
   "cell_type": "code",
   "execution_count": 34,
   "id": "190012ef",
   "metadata": {},
   "outputs": [
    {
     "name": "stdout",
     "output_type": "stream",
     "text": [
      "1275\n"
     ]
    }
   ],
   "source": [
    "#Write a Python program to find the sum of all odd numbers from 1 to 50 using a for loop.\n",
    "\n",
    "add=0\n",
    "for i in range(1,51):\n",
    "    if i/2!=0:\n",
    "        add+=i\n",
    "print(add)"
   ]
  },
  {
   "cell_type": "code",
   "execution_count": 35,
   "id": "52e7b70c",
   "metadata": {},
   "outputs": [
    {
     "name": "stdout",
     "output_type": "stream",
     "text": [
      "enter year : 2012\n",
      "leap year\n"
     ]
    }
   ],
   "source": [
    "#Write a Python program that checks if a given year is a leap year using a for loop.\n",
    "year = int(input('enter year : '))\n",
    "if (year%4==0 and year%100!=0 or year%400!=0):\n",
    "    print('leap year')\n",
    "else:\n",
    "    print('not a leap year')"
   ]
  },
  {
   "cell_type": "code",
   "execution_count": 37,
   "id": "7e342fdf",
   "metadata": {},
   "outputs": [
    {
     "name": "stdout",
     "output_type": "stream",
     "text": [
      "enter a number: 16\n",
      "the square root of  16 is  4.0\n"
     ]
    }
   ],
   "source": [
    "#Create a Python program that calculates the square root of a number using a for loop.\n",
    "import math\n",
    "num = int(input('enter a number: '))\n",
    "sqrt = math.sqrt(num)\n",
    "print(\"the square root of \", num, \"is \", sqrt)\n"
   ]
  },
  {
   "cell_type": "code",
   "execution_count": 41,
   "id": "1134c85a",
   "metadata": {},
   "outputs": [
    {
     "name": "stdout",
     "output_type": "stream",
     "text": [
      "enter a number:n 12345\n",
      "enter a second number: 64\n",
      "790080.0\n"
     ]
    }
   ],
   "source": [
    "#Write a Python program to find the LCM (Least Common Multiple) of two numbers using a for loop.\n",
    "num1=int(input('enter a number:n '))\n",
    "num2=int(input('enter a second number: '))\n",
    "import math\n",
    "gcd=math.gcd(num1,num2)\n",
    "LCM = (num1 * num2) / gcd\n",
    "print(LCM)\n",
    "    "
   ]
  },
  {
   "cell_type": "code",
   "execution_count": 42,
   "id": "a0ce085b",
   "metadata": {},
   "outputs": [],
   "source": [
    "#ifelse:\n"
   ]
  },
  {
   "cell_type": "code",
   "execution_count": 44,
   "id": "a79d5f11",
   "metadata": {},
   "outputs": [
    {
     "name": "stdout",
     "output_type": "stream",
     "text": [
      "enter a number:23\n",
      "23 is positive\n"
     ]
    }
   ],
   "source": [
    "#Write a Python program to check if a number is positive, negative, or zero using an if-else statement\n",
    "num = int(input('enter a number:'))\n",
    "if num==0:\n",
    "    print(num,'is positive')\n",
    "    \n",
    "elif num<0:\n",
    "    print(num,'is negative')\n",
    "else:\n",
    "    num%2==0\n",
    "    print(num,'is positive')\n"
   ]
  },
  {
   "cell_type": "code",
   "execution_count": 45,
   "id": "f03d2298",
   "metadata": {},
   "outputs": [
    {
     "name": "stdout",
     "output_type": "stream",
     "text": [
      "enter a num67\n",
      "67 is odd\n"
     ]
    }
   ],
   "source": [
    "#Create a Python program that checks if a given number is even or odd using an if-else statement\n",
    "num1=int(input('enter a num'))\n",
    "if num1%2==0:\n",
    "    print(num1, 'is even')\n",
    "else:\n",
    "    print(num1, 'is odd')"
   ]
  },
  {
   "cell_type": "markdown",
   "id": "0497864c",
   "metadata": {},
   "source": [
    "#How can you use nested if-else statements in Python, and provide an example?\n",
    "Nested if-else statements in Python are used when a condition within an if statement depends on the outcome of another if statement. It allows for more complex decisions to be made by chaining if statements together. For example:"
   ]
  },
  {
   "cell_type": "code",
   "execution_count": 46,
   "id": "840ce2d9",
   "metadata": {},
   "outputs": [
    {
     "name": "stdout",
     "output_type": "stream",
     "text": [
      "enter x:11\n",
      "x is greater than 5\n",
      "x is also greater than 10\n"
     ]
    }
   ],
   "source": [
    "x=int(input('enter x:'))\n",
    "if x > 5:\n",
    "    print(\"x is greater than 5\")\n",
    "    \n",
    "    if x > 10:\n",
    "        print(\"x is also greater than 10\")\n",
    "    else:\n",
    "        print(\"x is not greater than 10\")\n",
    "else:\n",
    "    print(\"x is not greater than 5\")\n",
    "\n",
    "# Output: x is greater than 5 and x is also greater than 1  "
   ]
  },
  {
   "cell_type": "code",
   "execution_count": 49,
   "id": "f77a263d",
   "metadata": {},
   "outputs": [
    {
     "name": "stdout",
     "output_type": "stream",
     "text": [
      "enter first number:234 \n",
      "enter second number: 2\n",
      "enter third number: 34543456\n",
      "largest of three numbers is : 34543456\n"
     ]
    }
   ],
   "source": [
    "#Write a Python program to determine the largest of three numbers using if-else.\n",
    "a=int(input('enter first number:'))\n",
    "b=int(input('enter second number: '))\n",
    "c=int(input('enter third number: '))\n",
    "d=max(a,b,c)\n",
    "print('largest of three numbers is :',d)"
   ]
  },
  {
   "cell_type": "code",
   "execution_count": 53,
   "id": "3609d988",
   "metadata": {},
   "outputs": [
    {
     "name": "stdout",
     "output_type": "stream",
     "text": [
      "enter a number:-3\n",
      "3\n"
     ]
    }
   ],
   "source": [
    "#Write a Python program that calculates the absolute value of a number using if-else.\n",
    "num=int(input('enter a number:'))\n",
    "abs_num = abs(num)\n",
    "print(abs_num)"
   ]
  },
  {
   "cell_type": "code",
   "execution_count": 65,
   "id": "9b215ee5",
   "metadata": {},
   "outputs": [
    {
     "name": "stdout",
     "output_type": "stream",
     "text": [
      "enter a character k\n",
      "enter char is a consonant\n"
     ]
    }
   ],
   "source": [
    "#Create a Python program that checks if a given character is a vowel or consonant using if-else.\n",
    "char = str(input('enter a character '))\n",
    "vowel = ['a','e','i','o','u']\n",
    "for i in char:\n",
    "    for j in vowel:\n",
    "        if (i==j):\n",
    "            print('enter char is a vowel')\n",
    "            break;\n",
    "    else:\n",
    "        print('enter char is a consonant')"
   ]
  },
  {
   "cell_type": "code",
   "execution_count": 66,
   "id": "cf745ff9",
   "metadata": {},
   "outputs": [
    {
     "name": "stdout",
     "output_type": "stream",
     "text": [
      "enter your age: 23\n",
      "eligible for voting\n"
     ]
    }
   ],
   "source": [
    "#Write a Python program to determine if a user is eligible to vote based on their age using if-else.\n",
    "age=int(input('enter your age: '))\n",
    "if age >=18:\n",
    "    print('eligible for voting')\n",
    "else:\n",
    "    print('not eligible')"
   ]
  },
  {
   "cell_type": "code",
   "execution_count": 1,
   "id": "670444a0",
   "metadata": {},
   "outputs": [
    {
     "name": "stdout",
     "output_type": "stream",
     "text": [
      "enter minimum retail price for the item in your cart : 100\n",
      "price list: 100.0\n",
      "biscuit-20\n",
      "enter the amount you want to give discount: 2\n",
      "after a discount your amount is: 98.0\n",
      "atta-80\n",
      "enter the amount you want to give discount: 0\n",
      "after a discount your amount is: 100.0\n",
      "rice-500\n",
      "enter the amount you want to give discount: 0\n",
      "after a discount your amount is: 100.0\n",
      "olive oil-1500\n",
      "enter the amount you want to give discount: 0\n",
      "after a discount your amount is: 100.0\n",
      "shampoo-1900\n",
      "enter the amount you want to give discount: 0\n",
      "after a discount your amount is: 100.0\n",
      "veggies-1000\n",
      "enter the amount you want to give discount: 3\n",
      "after a discount your amount is: 97.0\n"
     ]
    }
   ],
   "source": [
    "#Create a Python program that calculates the discount amount based on the purchase amount using if-else\n",
    "mylist = ['biscuit-20','atta-80','rice-500','olive oil-1500','shampoo-1900','veggies-1000']\n",
    "mrp = float(input('enter minimum retail price for the item in your cart : '))\n",
    "print('price list:',mrp)\n",
    "count=0\n",
    "for i in mylist:\n",
    "    print(i)\n",
    "    count=count+1\n",
    "    discount_amount=float(input('enter the amount you want to give discount: '))\n",
    "    discount_price=(mrp-discount_amount)\n",
    "    print(\"after a discount your amount is:\",discount_price)\n",
    "    "
   ]
  },
  {
   "cell_type": "code",
   "execution_count": 3,
   "id": "f98f132d",
   "metadata": {},
   "outputs": [
    {
     "name": "stdout",
     "output_type": "stream",
     "text": [
      "enter a number:1023\n",
      "1023 is out of range\n"
     ]
    }
   ],
   "source": [
    "#Write a Python program to check if a number is within a specified range using if-else.\n",
    "num=int(input('enter a number:'))\n",
    "for i in range(0,101):\n",
    "    if i==num:\n",
    "        print(num,'is in range')\n",
    "else:\n",
    "    print(num,'is out of range')"
   ]
  },
  {
   "cell_type": "code",
   "execution_count": 4,
   "id": "a7989336",
   "metadata": {},
   "outputs": [
    {
     "name": "stdout",
     "output_type": "stream",
     "text": [
      "enter your exam score:92\n",
      "Grade A+\n"
     ]
    }
   ],
   "source": [
    "#Create a Python program that determines the grade of a student based on their score using if-else.\n",
    "score=int(input('enter your exam score:'))\n",
    "if score<=0:\n",
    "    print('enter valid input')\n",
    "elif score<=33:\n",
    "    print('you have failed the exam, grade E')\n",
    "elif 33<score<60:\n",
    "    print('garde C')\n",
    "elif 60<score<70:\n",
    "    print('grade B')\n",
    "elif score<=80:\n",
    "    print('grade A')\n",
    "else:\n",
    "    print('Grade A+')"
   ]
  },
  {
   "cell_type": "code",
   "execution_count": 10,
   "id": "e46585b8",
   "metadata": {},
   "outputs": [
    {
     "name": "stdout",
     "output_type": "stream",
     "text": [
      "enter your string: \n",
      "empty\n"
     ]
    }
   ],
   "source": [
    "#Write a Python program to check if a string is empty or not using if-else.\n",
    "mystr = str(input('enter your string: '))\n",
    "\n",
    "if len(mystr)==0:\n",
    "    print('empty')\n",
    "else:\n",
    "    print(\"non empty\")"
   ]
  },
  {
   "cell_type": "code",
   "execution_count": 12,
   "id": "b558be74",
   "metadata": {},
   "outputs": [
    {
     "name": "stdout",
     "output_type": "stream",
     "text": [
      "enter the height 23\n",
      "enter the base 23\n",
      "enter the hypotenuse 23\n",
      "equilateral triangle\n"
     ]
    }
   ],
   "source": [
    "#Create a Python program that identifies the type of a triangle (e.g., equilateral, isosceles, or scalene) based on input values using if-else.\n",
    "l = int(input('enter the height '))\n",
    "b = int(input('enter the base '))\n",
    "hypo = int(input('enter the hypotenuse '))\n",
    "if (l==b==hypo):\n",
    "    print('equilateral triangle')\n",
    "elif (l==b or b==hypo and\n",
    "    l==hypo or b==hypo):\n",
    "    print('isoceles triangle')\n",
    "else:\n",
    "    print('scalene triangle')"
   ]
  },
  {
   "cell_type": "code",
   "execution_count": 13,
   "id": "00f119f4",
   "metadata": {},
   "outputs": [
    {
     "name": "stdout",
     "output_type": "stream",
     "text": [
      "enter the day of the week from 1-7: 3\n",
      "wednesday\n"
     ]
    }
   ],
   "source": [
    "#Write a Python program to determine the day of the week based on a user-provided number using if-else.\n",
    "gues_day = int(input('enter the day of the week from 1-7: '))\n",
    "if (gues_day == 1):\n",
    "    print('monday')\n",
    "elif (gues_day == 2):\n",
    "    print('tuesday')\n",
    "elif (gues_day == 3):\n",
    "    print('wednesday')\n",
    "elif (gues_day == 4):\n",
    "    print('thursday')\n",
    "elif (gues_day == 5):\n",
    "    print('Friday')\n",
    "elif (gues_day == 6):\n",
    "    print('Saturday')\n",
    "elif (gues_day == 7):\n",
    "    print('Sunday is funday')\n",
    "else:\n",
    "    print('enter valid number from (1-7)')"
   ]
  },
  {
   "cell_type": "code",
   "execution_count": 33,
   "id": "efdde523",
   "metadata": {},
   "outputs": [
    {
     "name": "stdout",
     "output_type": "stream",
     "text": [
      "not a leap year\n"
     ]
    }
   ],
   "source": [
    "#Create a Python program that checks if a given year is a leap year using both if-else and a function.\n",
    "def is_leap_year(year):\n",
    "    if (year % 4 == 0 and year % 100 != 0) or year % 400 == 0:\n",
    "        return True\n",
    "    else:\n",
    "        return False\n",
    "\n",
    "year = 1999\n",
    "if is_leap_year(year):\n",
    "    print('leap year')\n",
    "else:\n",
    "    print('not a leap year')"
   ]
  },
  {
   "cell_type": "code",
   "execution_count": 36,
   "id": "45b3e3ac",
   "metadata": {},
   "outputs": [
    {
     "ename": "AssertionError",
     "evalue": "x should be 'hello'",
     "output_type": "error",
     "traceback": [
      "\u001b[0;31m---------------------------------------------------------------------------\u001b[0m",
      "\u001b[0;31mAssertionError\u001b[0m                            Traceback (most recent call last)",
      "\u001b[0;32m<ipython-input-36-32ed2fb52833>\u001b[0m in \u001b[0;36m<module>\u001b[0;34m\u001b[0m\n\u001b[1;32m      3\u001b[0m \u001b[0;34m\u001b[0m\u001b[0m\n\u001b[1;32m      4\u001b[0m \u001b[0;31m#if condition returns False, AssertionError is raised:\u001b[0m\u001b[0;34m\u001b[0m\u001b[0;34m\u001b[0m\u001b[0;34m\u001b[0m\u001b[0m\n\u001b[0;32m----> 5\u001b[0;31m \u001b[0;32massert\u001b[0m \u001b[0mx\u001b[0m \u001b[0;34m==\u001b[0m \u001b[0;34m\"hell\"\u001b[0m\u001b[0;34m,\u001b[0m \u001b[0;34m\"x should be 'hello'\"\u001b[0m\u001b[0;34m\u001b[0m\u001b[0;34m\u001b[0m\u001b[0m\n\u001b[0m",
      "\u001b[0;31mAssertionError\u001b[0m: x should be 'hello'"
     ]
    }
   ],
   "source": [
    "#How do you use the \"assert\" statement in Python to add debugging checks within if-else blocks?\n",
    "x = \"hello\"\n",
    "\n",
    "#if condition returns False, AssertionError is raised:\n",
    "assert x == \"hell\", \"x should be 'hello'\""
   ]
  },
  {
   "cell_type": "code",
   "execution_count": 37,
   "id": "e364a24f",
   "metadata": {},
   "outputs": [
    {
     "name": "stdout",
     "output_type": "stream",
     "text": [
      "enter your age: 89\n",
      "eligible for senior citizen\n"
     ]
    }
   ],
   "source": [
    "#Create a Python program that determines the eligibility of a person for a senior citizen discount based on age using if-else.\n",
    "age=int(input('enter your age: '))\n",
    "if age >=60:\n",
    "    print('eligible for senior citizen')\n",
    "else:\n",
    "    print('not eligible')"
   ]
  },
  {
   "cell_type": "code",
   "execution_count": 49,
   "id": "ebba7253",
   "metadata": {},
   "outputs": [
    {
     "name": "stdout",
     "output_type": "stream",
     "text": [
      "enter your word   :  5\n",
      "uppercase\n"
     ]
    }
   ],
   "source": [
    "#Write a Python program to categorize a given character as uppercase, lowercase, or neither using if-else.\n",
    "word = input('enter your word   :  ')\n",
    "if (word==word.upper()):\n",
    "    print('uppercase')\n",
    "elif (word==word.lower()):\n",
    "    print('lowercase')\n",
    "else:\n",
    "    print('neither')\n",
    "    \n"
   ]
  },
  {
   "cell_type": "code",
   "execution_count": 50,
   "id": "02f11056",
   "metadata": {},
   "outputs": [
    {
     "name": "stdout",
     "output_type": "stream",
     "text": [
      "enter a: 34\n",
      "enter b: 45\n",
      "enter c: 4\n",
      "the roots of a quadratic equation 609.2239677663911\n",
      "the roots of a quadratic equation -699.2239677663911\n"
     ]
    }
   ],
   "source": [
    "#Write a Python program to determine the roots of a quadratic equation using if-else.\n",
    "import math\n",
    "a=int(input('enter a: '))\n",
    "b=int(input('enter b: '))\n",
    "c=int(input('enter c: '))\n",
    "D=(b*b - 4*a*c)\n",
    "x = -(b)+math.sqrt(D)/2*a\n",
    "y = -(b)-math.sqrt(D)/2*a\n",
    "print('the roots of a quadratic equation',x)\n",
    "print('the roots of a quadratic equation',y)"
   ]
  },
  {
   "cell_type": "code",
   "execution_count": 51,
   "id": "1a5798e0",
   "metadata": {},
   "outputs": [
    {
     "name": "stdout",
     "output_type": "stream",
     "text": [
      "Enter a year: 2002\n",
      "2002 is not a century year\n"
     ]
    }
   ],
   "source": [
    "#Create a Python program that checks if a given year is a century year or not using if-else.\n",
    "year = int(input(\"Enter a year: \"))\n",
    "if (year % 400 == 0) and (year % 100 == 0):\n",
    "    print(\"{0} is a century and a leap year \".format(year))\n",
    "else:\n",
    "    print(\"{0} is not a century year\".format(year))"
   ]
  },
  {
   "cell_type": "code",
   "execution_count": 70,
   "id": "1729127f",
   "metadata": {},
   "outputs": [
    {
     "name": "stdout",
     "output_type": "stream",
     "text": [
      "enter your number: 81\n",
      "9.0\n",
      "81 is a perfect square\n"
     ]
    }
   ],
   "source": [
    "#Write a Python program to determine if a given number is a perfect square using if-else.\n",
    "num = int(input('enter your number: ')) \n",
    "import math\n",
    "sqr= math.sqrt(num)\n",
    "print(sqr)\n",
    "if ((sqr*sqr)==num):\n",
    "    print(num,'is a perfect square')\n",
    "else:\n",
    "    print(num,'is not a perfect square')"
   ]
  },
  {
   "cell_type": "markdown",
   "id": "c634b983",
   "metadata": {},
   "source": [
    "#Explain the purpose of the \"continue\" and \"break\" statements within if-else loops.\n",
    "The \"continue\" statement within an if-else loop allows program control execution to move immediately to the next iteration of the loop without executing any subsequent statements of the block in which it is located. This is commonly used when it is not necessary to perform any further actions in response to a certain condition.\n",
    "\n",
    "The \"break\" statement, on the other hand, breaks out of the current loop block and the loop continues its execution after the break statement. This is useful when a certain condition is met, and an action is taken which results in the loop exiting completion."
   ]
  },
  {
   "cell_type": "code",
   "execution_count": 84,
   "id": "9733cdba",
   "metadata": {},
   "outputs": [
    {
     "name": "stdout",
     "output_type": "stream",
     "text": [
      "enter your weight in kg:52\n",
      "enter your height in cm :170\n",
      "17.993079584775085\n",
      "under weight\n"
     ]
    }
   ],
   "source": [
    "#Create a Python program that calculates the BMI (Body Mass Index) of a person based on their weight and height using if-else.\n",
    "weight= float(input('enter your weight in kg:'))\n",
    "height = float(input('enter your height in cm :'))\n",
    "height_bmi = height*height\n",
    "h=height_bmi/10000\n",
    "bmi = weight/h\n",
    "print(bmi)\n",
    "if bmi<=18.5:\n",
    "    print('under weight')\n",
    "elif 18.5<=bmi<=24.9:\n",
    "    print('healthy weight range')\n",
    "elif  25.0<bmi>=29.9:\n",
    "    print('over weight')\n",
    "else:\n",
    "    print('enter valid BMI range')\n"
   ]
  },
  {
   "cell_type": "code",
   "execution_count": 100,
   "id": "9dd416a4",
   "metadata": {},
   "outputs": [],
   "source": [
    "#How can you use the \"filter()\" function with if-else statements to filter elements from a list?\n",
    "lst=['1','2','apple','pear','socks','66']\n"
   ]
  },
  {
   "cell_type": "code",
   "execution_count": 6,
   "id": "6b59b4bc",
   "metadata": {},
   "outputs": [
    {
     "name": "stdout",
     "output_type": "stream",
     "text": [
      "enter a number: 61\n",
      "prime\n"
     ]
    }
   ],
   "source": [
    "#Write a Python program to determine if a given number is prime or not using if-else.\n",
    "num = int(input('enter a number: '))\n",
    "if num>1:\n",
    "    if num%2!=0:\n",
    "        if num%1==0:\n",
    "            print('prime')\n",
    "    else:\n",
    "        print('not prime')\n"
   ]
  },
  {
   "cell_type": "markdown",
   "id": "a6b0deac",
   "metadata": {},
   "source": [
    "MAP()"
   ]
  },
  {
   "cell_type": "code",
   "execution_count": 1,
   "id": "33c7e18f",
   "metadata": {},
   "outputs": [
    {
     "data": {
      "text/plain": [
       "[3, 4, 5, 6, 7, 8, 9, 10, 11]"
      ]
     },
     "execution_count": 1,
     "metadata": {},
     "output_type": "execute_result"
    }
   ],
   "source": [
    "l=[1,2,3,4,5,6,7,8,9]\n",
    "list(map(lambda a:a+2,l))"
   ]
  },
  {
   "cell_type": "code",
   "execution_count": 2,
   "id": "6fbe0254",
   "metadata": {},
   "outputs": [],
   "source": [
    "#Explain the purpose of the `map()` function in Python and provide an example of how it can be used to apply a function to each element of an iterable.\n",
    "#the purpose of map() is to apply the same operation to every element in a list, without explicitly iterating over it.\n",
    "def length(c):\n",
    "    return len(c)\n"
   ]
  },
  {
   "cell_type": "code",
   "execution_count": 6,
   "id": "003492fa",
   "metadata": {},
   "outputs": [
    {
     "data": {
      "text/plain": [
       "[3, 6]"
      ]
     },
     "execution_count": 6,
     "metadata": {},
     "output_type": "execute_result"
    }
   ],
   "source": [
    "c=['ani','mandal']\n",
    "list(map(length,c))"
   ]
  },
  {
   "cell_type": "code",
   "execution_count": 8,
   "id": "4caeef7b",
   "metadata": {},
   "outputs": [
    {
     "data": {
      "text/plain": [
       "[1, 4, 9, 16, 25]"
      ]
     },
     "execution_count": 8,
     "metadata": {},
     "output_type": "execute_result"
    }
   ],
   "source": [
    "#Write a Python program that uses the `map()` function to square each element of a list of numbers.\n",
    "def sqr(l):\n",
    "    return l*l\n",
    "l=[1,2,3,4,5]\n",
    "list(map(sqr,l))  "
   ]
  },
  {
   "cell_type": "markdown",
   "id": "ec3cb16d",
   "metadata": {},
   "source": [
    "#How does the `map()` function differ from a list comprehension in Python, and when would you choose one over the other?\n",
    "The map() function applies a given function to each element of an iterable, returning an iterator of the same type as the input. It is useful when you want to modify the original list while still maintaining a reference to it, or when you need to apply a function to elements before combining the results. On the other hand, list comprehensions are more concise and can be easier to read for certain tasks, and do not modify the original list. They are suited for creating new lists, often in response to sorting, filtering or increasing/decreasing values in the list. "
   ]
  },
  {
   "cell_type": "code",
   "execution_count": 11,
   "id": "9c605e0f",
   "metadata": {},
   "outputs": [
    {
     "data": {
      "text/plain": [
       "['ANI', 'BUNTY', 'BUBLY']"
      ]
     },
     "execution_count": 11,
     "metadata": {},
     "output_type": "execute_result"
    }
   ],
   "source": [
    "#Create a Python program that uses the `map()` function to convert a list of names to uppercase.\n",
    "def names(l):\n",
    "    return l.upper()\n",
    "l=['ani','bunty','bubly']\n",
    "list(map(names,l))"
   ]
  },
  {
   "cell_type": "code",
   "execution_count": 12,
   "id": "cb4f64c9",
   "metadata": {},
   "outputs": [
    {
     "data": {
      "text/plain": [
       "[3, 5, 5]"
      ]
     },
     "execution_count": 12,
     "metadata": {},
     "output_type": "execute_result"
    }
   ],
   "source": [
    "#Write a Python program that uses the `map()` function to calculate the length of each word in a list of strings.\n",
    "def names(l):\n",
    "    return len(l)\n",
    "l=['ani','bunty','bubly']\n",
    "list(map(names,l))"
   ]
  },
  {
   "cell_type": "code",
   "execution_count": 7,
   "id": "35ef0ad6",
   "metadata": {},
   "outputs": [
    {
     "name": "stdout",
     "output_type": "stream",
     "text": [
      "<map object at 0x7f82e010bb20>\n"
     ]
    },
    {
     "ename": "TypeError",
     "evalue": "list expected at most 1 argument, got 2",
     "output_type": "error",
     "traceback": [
      "\u001b[0;31m---------------------------------------------------------------------------\u001b[0m",
      "\u001b[0;31mTypeError\u001b[0m                                 Traceback (most recent call last)",
      "\u001b[0;32m<ipython-input-7-2152e90738ec>\u001b[0m in \u001b[0;36m<module>\u001b[0;34m\u001b[0m\n\u001b[1;32m      7\u001b[0m \u001b[0ma\u001b[0m\u001b[0;34m=\u001b[0m\u001b[0mmap\u001b[0m\u001b[0;34m(\u001b[0m\u001b[0mnames\u001b[0m\u001b[0;34m,\u001b[0m\u001b[0ml\u001b[0m\u001b[0;34m,\u001b[0m\u001b[0mm\u001b[0m\u001b[0;34m,\u001b[0m\u001b[0mn\u001b[0m\u001b[0;34m)\u001b[0m\u001b[0;34m\u001b[0m\u001b[0;34m\u001b[0m\u001b[0m\n\u001b[1;32m      8\u001b[0m \u001b[0mprint\u001b[0m\u001b[0;34m(\u001b[0m\u001b[0ma\u001b[0m\u001b[0;34m)\u001b[0m\u001b[0;34m\u001b[0m\u001b[0;34m\u001b[0m\u001b[0m\n\u001b[0;32m----> 9\u001b[0;31m \u001b[0mprint\u001b[0m\u001b[0;34m(\u001b[0m\u001b[0mlist\u001b[0m\u001b[0;34m(\u001b[0m\u001b[0mnames\u001b[0m\u001b[0;34m,\u001b[0m\u001b[0ma\u001b[0m\u001b[0;34m)\u001b[0m\u001b[0;34m)\u001b[0m\u001b[0;34m\u001b[0m\u001b[0;34m\u001b[0m\u001b[0m\n\u001b[0m",
      "\u001b[0;31mTypeError\u001b[0m: list expected at most 1 argument, got 2"
     ]
    }
   ],
   "source": [
    "#How can you use the `map()` function to apply a custom function to elements of multiple lists simultaneously in Python?\n",
    "def names(l):\n",
    "    return len(l)\n",
    "l=['ani','bunty','bubly']\n",
    "m=['apple','oranges','fruits']\n",
    "n=['wednesday','tuesday','monday']\n",
    "a=map(names,l,m,n)\n",
    "print(a)\n",
    "print(list(names,a))"
   ]
  },
  {
   "cell_type": "code",
   "execution_count": 24,
   "id": "0e9422d9",
   "metadata": {},
   "outputs": [
    {
     "ename": "TypeError",
     "evalue": "'int' object is not iterable",
     "output_type": "error",
     "traceback": [
      "\u001b[0;31m---------------------------------------------------------------------------\u001b[0m",
      "\u001b[0;31mTypeError\u001b[0m                                 Traceback (most recent call last)",
      "\u001b[0;32m<ipython-input-24-29f547ee7784>\u001b[0m in \u001b[0;36m<module>\u001b[0;34m\u001b[0m\n\u001b[1;32m      5\u001b[0m \u001b[0mtemp\u001b[0m\u001b[0;34m=\u001b[0m\u001b[0;36m23\u001b[0m\u001b[0;34m\u001b[0m\u001b[0;34m\u001b[0m\u001b[0m\n\u001b[1;32m      6\u001b[0m \u001b[0;34m\u001b[0m\u001b[0m\n\u001b[0;32m----> 7\u001b[0;31m \u001b[0mlist\u001b[0m\u001b[0;34m(\u001b[0m\u001b[0mmap\u001b[0m\u001b[0;34m(\u001b[0m\u001b[0mcel_to_fahrenheit\u001b[0m\u001b[0;34m,\u001b[0m\u001b[0;36m23\u001b[0m\u001b[0;34m)\u001b[0m\u001b[0;34m)\u001b[0m\u001b[0;34m\u001b[0m\u001b[0;34m\u001b[0m\u001b[0m\n\u001b[0m",
      "\u001b[0;31mTypeError\u001b[0m: 'int' object is not iterable"
     ]
    }
   ],
   "source": [
    "#Create a Python program that uses `map()` to convert a list of temperatures from Celsius to Fahrenheit.\n",
    "\n",
    "def cel_to_fahrenheit():\n",
    "     return ((23 )* 9/5)+32\n",
    "temp=23\n",
    "    \n",
    "list(map(cel_to_fahrenheit,23))\n"
   ]
  },
  {
   "cell_type": "code",
   "execution_count": 5,
   "id": "420ca583",
   "metadata": {},
   "outputs": [
    {
     "name": "stdout",
     "output_type": "stream",
     "text": [
      "Original numbers: [1.23, 4.56, -7.89, 0.01]\n",
      "Rounded numbers: [1, 5, -8, 0]\n"
     ]
    }
   ],
   "source": [
    "#Write a Python program that uses the `map()` function to round each element of a list of floating-point numbers to the nearest integer.\n",
    "def round_list(numbers):\n",
    "  \n",
    "    rounded_numbers = list(map(round, numbers))\n",
    "    return rounded_numbers\n",
    "\n",
    "numbers = [1.23, 4.56, -7.89, 0.01]\n",
    "rounded_numbers = round_list(numbers)\n",
    "\n",
    "print(f\"Original numbers: {numbers}\")\n",
    "print(f\"Rounded numbers: {rounded_numbers}\")\n"
   ]
  },
  {
   "cell_type": "markdown",
   "id": "71d6513b",
   "metadata": {},
   "source": [
    "\n",
    "Reduce"
   ]
  },
  {
   "cell_type": "markdown",
   "id": "24127bc2",
   "metadata": {},
   "source": [
    "#What is the `reduce()` function in Python, and what module should you import to use it? Provide an example of its basic usage.\n",
    "reduce() function is a powerful tool in Python that operates on a list (or any iterable), applies a function to its elements, and 'reduces' them to a single output.\n",
    "Functool is the module .\n"
   ]
  },
  {
   "cell_type": "code",
   "execution_count": 6,
   "id": "bfd02ab2",
   "metadata": {},
   "outputs": [
    {
     "name": "stdout",
     "output_type": "stream",
     "text": [
      "The sum of the list elements is : 17\n",
      "The maximum element of the list is : 6\n"
     ]
    }
   ],
   "source": [
    "# python code to demonstrate working of reduce() \n",
    "\n",
    "import functools \n",
    "lis = [1, 3, 5, 6, 2]  \n",
    "print(\"The sum of the list elements is : \", end=\"\") \n",
    "print(functools.reduce(lambda a, b: a+b, lis)) \n",
    "\n",
    "# using reduce to compute maximum element from list \n",
    "print(\"The maximum element of the list is : \", end=\"\") \n",
    "print(functools.reduce(lambda a, b: a if a > b else b, lis)) \n"
   ]
  },
  {
   "cell_type": "code",
   "execution_count": 9,
   "id": "12cbd103",
   "metadata": {},
   "outputs": [
    {
     "name": "stdout",
     "output_type": "stream",
     "text": [
      "The product of the list elements is : 180\n"
     ]
    }
   ],
   "source": [
    "#Write a Python program that uses the `reduce()` function to find the product of all elements in a list.\n",
    "import functools \n",
    "lis = [1, 3, 5, 6, 2]  \n",
    "print(\"The product of the list elements is : \", end=\"\") \n",
    "print(functools.reduce(lambda a, b: a*b, lis)) \n",
    "\n"
   ]
  },
  {
   "cell_type": "code",
   "execution_count": 8,
   "id": "9e6110d3",
   "metadata": {},
   "outputs": [
    {
     "name": "stdout",
     "output_type": "stream",
     "text": [
      "The maximum element of the list is : 6\n"
     ]
    }
   ],
   "source": [
    "#Create a Python program that uses `reduce()` to find the maximum element in a list of numbers.\n",
    "import functools \n",
    "lis = [1, 3, 5, 6, 2]  \n",
    "# using reduce to compute maximum element from list \n",
    "print(\"The maximum element of the list is : \", end=\"\") \n",
    "print(functools.reduce(lambda a, b: a if a > b else b, lis)) "
   ]
  },
  {
   "cell_type": "code",
   "execution_count": 11,
   "id": "cb50410b",
   "metadata": {},
   "outputs": [
    {
     "name": "stdout",
     "output_type": "stream",
     "text": [
      "abcdef\n"
     ]
    }
   ],
   "source": [
    "#How can you use the `reduce()` function to concatenate a list of strings into a single string?\n",
    "str1 = ['a','b','c','d']\n",
    "str2 = ['e','f']\n",
    "print(functools.reduce(lambda a,b: a+b,str1+str2))"
   ]
  },
  {
   "cell_type": "code",
   "execution_count": null,
   "id": "ba4d3b87",
   "metadata": {
    "scrolled": true
   },
   "outputs": [],
   "source": []
  },
  {
   "cell_type": "code",
   "execution_count": 5,
   "id": "c3633ecb",
   "metadata": {},
   "outputs": [
    {
     "name": "stdout",
     "output_type": "stream",
     "text": [
      "The factorial of 5 is 120\n"
     ]
    }
   ],
   "source": [
    "from functools import reduce\n",
    "\n",
    "def factorial(n):\n",
    "\n",
    "    if n < 0:\n",
    "        raise ValueError(\"Factorial is not defined for negative numbers.\")\n",
    "    return reduce(lambda product, i: product * (i + 1), range(n), 1)\n",
    "\n",
    "    # Example usage\n",
    "number = 5\n",
    "try:\n",
    "    factorial_value = factorial(number)\n",
    "    print(f\"The factorial of {number} is {factorial_value}\")\n",
    "except ValueError as e:\n",
    "    print(f\"Error: {e}\")\n",
    "    \n"
   ]
  },
  {
   "cell_type": "code",
   "execution_count": 7,
   "id": "9fb5cb64",
   "metadata": {},
   "outputs": [
    {
     "name": "stdout",
     "output_type": "stream",
     "text": [
      "Greatest Common Divisor of two numbers is <function gcd at 0x7fae38399820>\n",
      "The sum of the list elements is : <function gcd at 0x7fae38399820>\n"
     ]
    }
   ],
   "source": [
    "#Create a Python program that uses `reduce()` to find the GCD (Greatest Common Divisor) of a list of numbers.\n",
    "import functools \n",
    "def gcd():\n",
    "    num1 = int(input('enter a number'))\n",
    "    num2 = int(input('enter a number'))\n",
    "    for i in range(1,min(num1,num2)):\n",
    "        if num1%i==0 and num2%i==0:\n",
    "            gcd=i\n",
    "print('Greatest Common Divisor of two numbers is', gcd)\n",
    "    \n",
    "lis = [1, 3, 5, 6, 2]  \n",
    " \n",
    "print(functools.reduce(lambda a, b: gcd, lis)) \n"
   ]
  },
  {
   "cell_type": "code",
   "execution_count": 9,
   "id": "3ba8900e",
   "metadata": {},
   "outputs": [
    {
     "name": "stdout",
     "output_type": "stream",
     "text": [
      "The sum of the list elements is : 8\n"
     ]
    }
   ],
   "source": [
    "#Write a Python program that uses the `reduce()` function to find the sum of the digits of a given number.\n",
    "import functools \n",
    "a=2\n",
    "b=6\n",
    "lis=[a,b]\n",
    "print(\"The sum of the list elements is : \", end=\"\") \n",
    "print(functools.reduce(lambda a, b: a+b, lis)) "
   ]
  },
  {
   "cell_type": "markdown",
   "id": "4602c587",
   "metadata": {},
   "source": [
    "Filter :-"
   ]
  },
  {
   "cell_type": "markdown",
   "id": "1a4e00d3",
   "metadata": {},
   "source": [
    "#Explain the purpose of the `filter()` function in Python and provide an example of how it can be used to filter elements from an iterable.\n",
    "The purpose of the filter() function in Python is to filter out elements in an iterable that do not satisfy a certain condition specified in the provided lambda function. This function returns an iterator over the elements that meet the specified condition."
   ]
  },
  {
   "cell_type": "code",
   "execution_count": 12,
   "id": "39cdc389",
   "metadata": {},
   "outputs": [
    {
     "name": "stdout",
     "output_type": "stream",
     "text": [
      "[1, 3, 5]\n"
     ]
    }
   ],
   "source": [
    "numbers = [1, 2, 3, 4, 5]\n",
    "filtered_numbers = filter(lambda x: x % 2 != 0, numbers)\n",
    "print(list(filtered_numbers)) # Output: [2, 4]\n"
   ]
  },
  {
   "cell_type": "code",
   "execution_count": 11,
   "id": "07465e2c",
   "metadata": {},
   "outputs": [
    {
     "name": "stdout",
     "output_type": "stream",
     "text": [
      "[2, 4]\n"
     ]
    }
   ],
   "source": [
    "#Write a Python program that uses the `filter()` function to select even numbers from a list of integers.\n",
    "numbers = [1, 2, 3, 4, 5]\n",
    "filtered_numbers = filter(lambda x: x % 2 == 0, numbers)\n",
    "print(list(filtered_numbers))"
   ]
  },
  {
   "cell_type": "code",
   "execution_count": 17,
   "id": "878c8052",
   "metadata": {},
   "outputs": [
    {
     "name": "stdout",
     "output_type": "stream",
     "text": [
      "['ani', 'anu', 'ana', 'anish']\n"
     ]
    }
   ],
   "source": [
    "#Create a Python program that uses the `filter()` function to select names that start with a specific letter from a list of strings.\n",
    "mystr=['ani','anu','ana','anish','bappa','bob','benny','cami','catrina']\n",
    "filtered_str=[]\n",
    "for i in mystr:\n",
    "    if i[0]=='a':\n",
    "        filtered_str.append(i)\n",
    "print(filtered_str)\n",
    "        "
   ]
  },
  {
   "cell_type": "code",
   "execution_count": 19,
   "id": "4873743f",
   "metadata": {},
   "outputs": [
    {
     "name": "stdout",
     "output_type": "stream",
     "text": [
      "Names starting with 'A': ['Alice', 'Anna']\n"
     ]
    }
   ],
   "source": [
    "names = [\"Alice\", \"Bob\", \"Charlie\", \"Diana\", \"Eve\", \"Frank\", \"Anna\",\"George\", \"Hannah\"]\n",
    "target_letter = \"A\"\n",
    "\n",
    "filtered_names = list(filter(lambda name: name.startswith(target_letter), names))\n",
    "\n",
    "print(f\"Names starting with '{target_letter}': {filtered_names}\")\n"
   ]
  },
  {
   "cell_type": "code",
   "execution_count": 20,
   "id": "c30a5703",
   "metadata": {},
   "outputs": [
    {
     "name": "stdout",
     "output_type": "stream",
     "text": [
      "[101, 13, 17, 4, 55]\n"
     ]
    }
   ],
   "source": [
    "#Write a Python program that uses the `filter()` function to select prime numbers from a list of integers.\n",
    "numbers = [101, 12, 13,17, 4, 55]\n",
    "prime_numbers = filter(lambda x: x > 1 and (x % 2 != 0 or x % 3 != 0), numbers)\n",
    "print(list(prime_numbers ))"
   ]
  },
  {
   "cell_type": "code",
   "execution_count": 25,
   "id": "37811c5d",
   "metadata": {},
   "outputs": [
    {
     "name": "stdout",
     "output_type": "stream",
     "text": [
      "Names starting with '': ['1', '2', '3', '4', '5', '55']\n"
     ]
    }
   ],
   "source": [
    "#How can you use the `filter()` function to remove None values from a list in Python?\n",
    "values =['1','2','3','4','','5','','55']\n",
    "nan = ''\n",
    "filtered_values = list(filter(lambda values: values.replace(nan,''), values))\n",
    "\n",
    "print(f\"values '{nan}': {filtered_values}\")\n"
   ]
  },
  {
   "cell_type": "code",
   "execution_count": 32,
   "id": "f75715a9",
   "metadata": {},
   "outputs": [
    {
     "name": "stdout",
     "output_type": "stream",
     "text": [
      "values with >  '3': ['abc', 'abcd', 'abcdef', 'bcd']\n"
     ]
    }
   ],
   "source": [
    "#Create a Python program that uses `filter()` to select words longer than a certain length from a list of strings.\n",
    "values =['abc','abcd','abcdef','bcd','cv','v']\n",
    "length = 3\n",
    "filtered_values = list(filter(lambda values: len(values)>=3, values))\n",
    "\n",
    "print(f\"values with >  '{length}': {filtered_values}\")"
   ]
  },
  {
   "cell_type": "code",
   "execution_count": 34,
   "id": "54737d92",
   "metadata": {},
   "outputs": [
    {
     "name": "stdout",
     "output_type": "stream",
     "text": [
      "greater than a specified threshold '3': ['abcd', 'abcdef']\n"
     ]
    }
   ],
   "source": [
    "#Write a Python program that uses the `filter()` function to select elements greater than a specified threshold from a list of values.\n",
    "values =['abc','abcd','abcdef','bcd','cv','v']\n",
    "length = 3\n",
    "filtered_values = list(filter(lambda values: len(values)>3, values))\n",
    "\n",
    "print(f\"greater than a specified threshold '{length}': {filtered_values}\")"
   ]
  },
  {
   "cell_type": "markdown",
   "id": "e3ce1c9f",
   "metadata": {},
   "source": [
    "Recursion:-\n"
   ]
  },
  {
   "cell_type": "markdown",
   "id": "b46a68d5",
   "metadata": {},
   "source": [
    "#Explain the concept of recursion in Python. How does it differ from iteration?\n",
    "Recursion is the process of breaking down a problem into smaller subproblems, with each solution to a subproblem calling the function itself repeatedly until reaching a base case, at which point the function returns its result. Iteration, on the other hand, involves repeating a series of instructions a fixed number of times or until a specific condition is met. In Python, recursive functions can be defined using a function calling itself as the main statement, while iterative solutions are typically implemented using loops such as for and while loops. "
   ]
  },
  {
   "cell_type": "code",
   "execution_count": 36,
   "id": "68108c15",
   "metadata": {},
   "outputs": [
    {
     "data": {
      "text/plain": [
       "6"
      ]
     },
     "execution_count": 36,
     "metadata": {},
     "output_type": "execute_result"
    }
   ],
   "source": [
    "#Write a Python program to calculate the factorial of a number using recursion.\n",
    "def factorial(n):\n",
    "    if n<=0:\n",
    "        return 1\n",
    "    else:\n",
    "        return n*factorial(n-1)\n",
    "    \n",
    "factorial(3)"
   ]
  },
  {
   "cell_type": "code",
   "execution_count": 38,
   "id": "804c611e",
   "metadata": {},
   "outputs": [
    {
     "data": {
      "text/plain": [
       "5"
      ]
     },
     "execution_count": 38,
     "metadata": {},
     "output_type": "execute_result"
    }
   ],
   "source": [
    "#Create a recursive Python function to find the nth Fibonacci number.\n",
    "def fibonacci(n):\n",
    "    if n<=0:\n",
    "        return 1\n",
    "    else:\n",
    "        return fibonacci(n-1)+fibonacci(n-2)\n",
    "fibonacci(3)"
   ]
  },
  {
   "cell_type": "code",
   "execution_count": 44,
   "id": "2c8c1ae3",
   "metadata": {},
   "outputs": [
    {
     "data": {
      "text/plain": [
       "15"
      ]
     },
     "execution_count": 44,
     "metadata": {},
     "output_type": "execute_result"
    }
   ],
   "source": [
    "#Write a recursive Python function to calculate the sum of all elements in a list.\n",
    "mylst=[1,2,3,4,5]\n",
    "def sum_of_elements(mylst):\n",
    "    if len(mylst) == 0:\n",
    "        return 0\n",
    "    else:\n",
    "        return mylst[0] + sum_of_elements(mylst[1:])\n",
    "sum_of_elements(mylst)"
   ]
  },
  {
   "cell_type": "markdown",
   "id": "a6e32e56",
   "metadata": {},
   "source": [
    "#How can you prevent a recursive function from running indefinitely, causing a stack overflow error?\n",
    "et a Base Case: Always define a clear base case for your recursive function to stop calling itself. Without a base case, or if the base case is never reached due to incorrect logic, the recursion will continue indefinitely, leading to a stack overflow."
   ]
  },
  {
   "cell_type": "code",
   "execution_count": 48,
   "id": "71cf6c0d",
   "metadata": {},
   "outputs": [
    {
     "data": {
      "text/plain": [
       "13"
      ]
     },
     "execution_count": 48,
     "metadata": {},
     "output_type": "execute_result"
    }
   ],
   "source": [
    "#Create a recursive Python function to find the greatest common divisor (GCD) of two numbers using the Euclidean algorithm.\n",
    " #The Euclidean algorithm is an iterative method for computing the greatest common divisor (GCD) of two integers. It works by repeatedly replacing the larger of the two numbers with its remainder when divided by the smaller one. The process continues until one of the numbers becomes zero. At this point, the GCD is the other number.\n",
    "\n",
    "def gcd(a, b):\n",
    "    if b == 0:\n",
    "        return a\n",
    "    return gcd(b, a % b)\n",
    "gcd(78,65)"
   ]
  },
  {
   "cell_type": "code",
   "execution_count": 58,
   "id": "e1e7d9cd",
   "metadata": {},
   "outputs": [
    {
     "data": {
      "text/plain": [
       "'eulb'"
      ]
     },
     "execution_count": 58,
     "metadata": {},
     "output_type": "execute_result"
    }
   ],
   "source": [
    "#Write a recursive Python function to reverse a string.\n",
    "def reverse(mystr):\n",
    "    if len(mystr)<=0:\n",
    "        return -1\n",
    "    return mystr[::-1]\n",
    "mystr='blue'\n",
    "\n",
    "reverse(mystr)"
   ]
  },
  {
   "cell_type": "code",
   "execution_count": 60,
   "id": "083f4e0f",
   "metadata": {},
   "outputs": [
    {
     "data": {
      "text/plain": [
       "8"
      ]
     },
     "execution_count": 60,
     "metadata": {},
     "output_type": "execute_result"
    }
   ],
   "source": [
    "#Create a recursive Python function to calculate the power of a number (x^n).\n",
    "def power(x,n):\n",
    "    if (x,n)==0:\n",
    "        return -1\n",
    "    return pow(x,n)\n",
    "power(2,3)"
   ]
  },
  {
   "cell_type": "code",
   "execution_count": 67,
   "id": "45c7a86a",
   "metadata": {},
   "outputs": [
    {
     "name": "stdout",
     "output_type": "stream",
     "text": [
      "abc\n",
      "acb\n",
      "bac\n",
      "bca\n",
      "cab\n",
      "cba\n"
     ]
    }
   ],
   "source": [
    "#Write a recursive Python function to find all permutations of a given string.\n",
    "s = 'abc'\n",
    "def perms(s):        \n",
    "    if(len(s)==1):\n",
    "        return [s]\n",
    "    result=[]\n",
    "    for i,v in enumerate(s):\n",
    "        result += [v+p for p in perms(s[:i]+s[i+1:])]\n",
    "    return result\n",
    "\n",
    "\n",
    "perms('abc')\n",
    "\n",
    "\n",
    "print('\\n'.join(perms('abc')))\n"
   ]
  },
  {
   "cell_type": "code",
   "execution_count": 68,
   "id": "ad6b2f4d",
   "metadata": {},
   "outputs": [
    {
     "name": "stdout",
     "output_type": "stream",
     "text": [
      "madam is a palindrome: True\n",
      "racecar is a palindrome: True\n",
      "hello is a palindrome: False\n"
     ]
    }
   ],
   "source": [
    "#Write a recursive Python function to check if a string is a palindrome.\n",
    "def is_palindrome(string):\n",
    "    if len(string) <= 1:\n",
    "        return True\n",
    "    else:\n",
    "        return string[0] == string[-1] and is_palindrome(string[1:-1])\n",
    "\n",
    "# Example usage\n",
    "string1 = \"madam\"\n",
    "string2 = \"racecar\"\n",
    "string3 = \"hello\"\n",
    "\n",
    "print(f\"{string1} is a palindrome: {is_palindrome(string1)}\")\n",
    "print(f\"{string2} is a palindrome: {is_palindrome(string2)}\")\n",
    "print(f\"{string3} is a palindrome: {is_palindrome(string3)}\")"
   ]
  },
  {
   "cell_type": "code",
   "execution_count": 77,
   "id": "44760341",
   "metadata": {},
   "outputs": [
    {
     "name": "stdout",
     "output_type": "stream",
     "text": [
      "[[], [1], [2], [1, 2], [3], [1, 3], [2, 3], [1, 2, 3]]\n"
     ]
    }
   ],
   "source": [
    "#Create a recursive Python function to generate all possible combinations of a list of elements.\n",
    "def combinations(l):\n",
    "    if l:\n",
    "        result = combinations(l[:-1])\n",
    "        return result + [c + [l[-1]] for c in result]\n",
    "    else:\n",
    "        return [[]]\n",
    "\n",
    "print(combinations([1,2,3]))"
   ]
  },
  {
   "cell_type": "markdown",
   "id": "08d2af9c",
   "metadata": {},
   "source": [
    "\n",
    "Basics of Functions:\n"
   ]
  },
  {
   "cell_type": "markdown",
   "id": "23a475a4",
   "metadata": {},
   "source": [
    "What is a function in Python, and why is it used?\n",
    "Functions are pre-decided methods used to call an action, because of their complexity, are better self-contained in a sub-program and called when needed. "
   ]
  },
  {
   "cell_type": "markdown",
   "id": "4108ffed",
   "metadata": {},
   "source": [
    "#How do you define a function in Python? Provide an example.\n",
    "def function(parameters):\n",
    "    arguments\n",
    "    return\n",
    "function(parameters) #call\n",
    "\n"
   ]
  },
  {
   "cell_type": "code",
   "execution_count": 79,
   "id": "82dbc82a",
   "metadata": {},
   "outputs": [
    {
     "data": {
      "text/plain": [
       "8"
      ]
     },
     "execution_count": 79,
     "metadata": {},
     "output_type": "execute_result"
    }
   ],
   "source": [
    "def power(x,n):\n",
    "    if (x,n)==0:\n",
    "        return -1\n",
    "    return pow(x,n)\n",
    "power(2,3)"
   ]
  },
  {
   "cell_type": "markdown",
   "id": "eca50f9b",
   "metadata": {},
   "source": [
    "#Explain the difference between a function definition and a function call.\n",
    "a function is a block of code that performs a specific task, while a function call is an expression that invokes a function and executes the code in the function"
   ]
  },
  {
   "cell_type": "code",
   "execution_count": 81,
   "id": "6518f8ac",
   "metadata": {},
   "outputs": [
    {
     "data": {
      "text/plain": [
       "18"
      ]
     },
     "execution_count": 81,
     "metadata": {},
     "output_type": "execute_result"
    }
   ],
   "source": [
    "#Write a Python program that defines a function to calculate the sum of two numbers and then calls the function.\n",
    "def add(a,b):\n",
    "    if a==0:\n",
    "        return b\n",
    "    return a+b\n",
    "add(9,9)"
   ]
  },
  {
   "cell_type": "markdown",
   "id": "71561744",
   "metadata": {},
   "source": [
    "#the names and types of the arguments the function accepts, along with the type of its return value.\n",
    "he names and types of the arguments a function accepts, along with the type of its return value, is called the function's signature."
   ]
  },
  {
   "cell_type": "code",
   "execution_count": 82,
   "id": "b6629cde",
   "metadata": {},
   "outputs": [
    {
     "data": {
      "text/plain": [
       "81"
      ]
     },
     "execution_count": 82,
     "metadata": {},
     "output_type": "execute_result"
    }
   ],
   "source": [
    "#Create a Python function that takes two arguments and returns their product\n",
    "def add(a,b):\n",
    "    if a==0:\n",
    "        return b\n",
    "    return a*b\n",
    "add(9,9)"
   ]
  },
  {
   "cell_type": "markdown",
   "id": "1a9232f9",
   "metadata": {},
   "source": [
    "#Function Parameters and Arguments:\n",
    " Actual Parameters are values supplied to the function when it is invoked, whereas Formal Parameters are variables declared by the function that get values when the function is called."
   ]
  },
  {
   "cell_type": "code",
   "execution_count": 83,
   "id": "583cb47a",
   "metadata": {},
   "outputs": [
    {
     "data": {
      "text/plain": [
       "'Anwesha'"
      ]
     },
     "execution_count": 83,
     "metadata": {},
     "output_type": "execute_result"
    }
   ],
   "source": [
    "#Write a Python program that defines a function with default argument values.\n",
    "def print_name(name):\n",
    "    return name\n",
    "print_name('Anwesha')"
   ]
  },
  {
   "cell_type": "code",
   "execution_count": 86,
   "id": "82db4b2d",
   "metadata": {},
   "outputs": [
    {
     "name": "stdout",
     "output_type": "stream",
     "text": [
      "value1 value2 value3\n"
     ]
    }
   ],
   "source": [
    "#How do you use keyword arguments in Python function calls? Provide an example.\n",
    "def my_function(param1, param2, param3):\n",
    "    print(param1, param2, param3)\n",
    "\n",
    "my_function('value1', 'value2', 'value3')\n"
   ]
  },
  {
   "cell_type": "code",
   "execution_count": 91,
   "id": "47254d85",
   "metadata": {},
   "outputs": [
    {
     "data": {
      "text/plain": [
       "27"
      ]
     },
     "execution_count": 91,
     "metadata": {},
     "output_type": "execute_result"
    }
   ],
   "source": [
    "#Create a Python function that accepts a variable number of arguments and calculates their sum.\n",
    "def add(a,b,c):\n",
    "    return a+b+c\n",
    "add(9,9,9)"
   ]
  },
  {
   "cell_type": "markdown",
   "id": "096418b6",
   "metadata": {},
   "source": [
    "*args passes variable number of non-keyworded arguments and on which operation of the tuple can be performed. **kwargs passes variable number of keyword arguments dictionary to function on which operation of a dictionary can be performed. *args and **kwargs make the function flexible."
   ]
  },
  {
   "cell_type": "markdown",
   "id": "203b3eeb",
   "metadata": {},
   "source": [
    "# Return Values and Scoping:\n"
   ]
  },
  {
   "cell_type": "code",
   "execution_count": 92,
   "id": "3ffba6be",
   "metadata": {},
   "outputs": [
    {
     "data": {
      "text/plain": [
       "27"
      ]
     },
     "execution_count": 92,
     "metadata": {},
     "output_type": "execute_result"
    }
   ],
   "source": [
    "#Describe the role of the `return` statement in Python functions and provide examples.\n",
    "#You can use the return statement to make your functions send Python objects back to the caller code. T\n",
    "def add(a,b,c):\n",
    "    return a+b+c\n",
    "add(9,9,9)"
   ]
  },
  {
   "cell_type": "code",
   "execution_count": 93,
   "id": "731d2fa1",
   "metadata": {},
   "outputs": [],
   "source": [
    "#Explain the concept of variable scope in Python, including local and global variables.\n",
    "#Local variables can only be accessed within the function or module in which they are defined, in contrast to global variables, which can be used throughout the entire program.\n"
   ]
  },
  {
   "cell_type": "code",
   "execution_count": 96,
   "id": "6a361689",
   "metadata": {},
   "outputs": [
    {
     "name": "stdout",
     "output_type": "stream",
     "text": [
      "20\n"
     ]
    }
   ],
   "source": [
    "#Write a Python program that demonstrates the use of global variables within functions.\n",
    "a=4  #global variable\n",
    "b=8\n",
    "c=8\n",
    "print(add(a,b,c))"
   ]
  },
  {
   "cell_type": "code",
   "execution_count": 97,
   "id": "083b672f",
   "metadata": {},
   "outputs": [
    {
     "name": "stdout",
     "output_type": "stream",
     "text": [
      "enter a number you want the factorial of : 23\n",
      "25852016738884976640000\n"
     ]
    }
   ],
   "source": [
    "#Create a Python function that calculates the factorial of a number and returns it.\n",
    "n = int(input('enter a number you want the factorial of : '))\n",
    "\n",
    "fact = 1\n",
    "for i in range(1,n+1):\n",
    "    fact = fact*i\n",
    "\n",
    "print(fact)"
   ]
  },
  {
   "cell_type": "markdown",
   "id": "bfc7525b",
   "metadata": {},
   "source": [
    "#How can you access variables defined outside a function from within the function?\n",
    "use a Global Keyword to access the local variables outside the function."
   ]
  },
  {
   "cell_type": "markdown",
   "id": "68b65480",
   "metadata": {},
   "source": [
    "# Lambda Functions and Higher-Order Functions:\n"
   ]
  },
  {
   "cell_type": "markdown",
   "id": "18177782",
   "metadata": {},
   "source": [
    "#What are lambda functions in Python, and when are they typically used?\n",
    " a keyword in Python for defining the anonymous function. argument(s) is a placeholder, that is a variable that will be used to hold the value you want to pass into the function expression."
   ]
  },
  {
   "cell_type": "markdown",
   "id": "810d4181",
   "metadata": {},
   "source": [
    "You can write a Lambda function to generate custom metrics by aggregating raw data. "
   ]
  },
  {
   "cell_type": "code",
   "execution_count": 98,
   "id": "370177c0",
   "metadata": {},
   "outputs": [
    {
     "name": "stdout",
     "output_type": "stream",
     "text": [
      "Original list of tuples:\n",
      "[('English', 88), ('Science', 90), ('Maths', 97), ('Social sciences', 82)]\n",
      "\n",
      "Sorting the List of Tuples:\n",
      "[('Social sciences', 82), ('English', 88), ('Science', 90), ('Maths', 97)]\n"
     ]
    }
   ],
   "source": [
    "#Write a Python program that uses lambda functions to sort a list of tuples based on the second element.\n",
    "subject_marks = [('English', 88), ('Science', 90), ('Maths', 97), ('Social sciences', 82)]\n",
    "\n",
    "print(\"Original list of tuples:\")\n",
    "print(subject_marks)\n",
    "\n",
    "subject_marks.sort(key=lambda x: x[1])\n",
    "print(\"\\nSorting the List of Tuples:\")\n",
    "print(subject_marks) "
   ]
  },
  {
   "cell_type": "markdown",
   "id": "2012d6be",
   "metadata": {},
   "source": [
    "#Explain the concept of higher-order functions in Python, and provide an example.\n",
    "functions that take a function as a parameter and/or return a function as an output.\n"
   ]
  },
  {
   "cell_type": "code",
   "execution_count": 102,
   "id": "87668c1e",
   "metadata": {},
   "outputs": [
    {
     "name": "stdout",
     "output_type": "stream",
     "text": [
      "[1, 4, 9]\n"
     ]
    }
   ],
   "source": [
    "#eg of higher order function\n",
    "\n",
    "def square(x):\n",
    "    return x * x\n",
    "\n",
    "numbers = [1, 2, 3]\n",
    "squared_numbers = list(map(square, numbers))\n",
    "print(squared_numbers) \n"
   ]
  },
  {
   "cell_type": "code",
   "execution_count": 125,
   "id": "98cb1f49",
   "metadata": {},
   "outputs": [
    {
     "name": "stdout",
     "output_type": "stream",
     "text": [
      "[1, 2]\n"
     ]
    }
   ],
   "source": [
    "#Create a Python function that takes a list of numbers and a function as arguments, applying the function to each element in the list.\n",
    "a = [1, 2, 4, 6]\n",
    "\n",
    "def function(a):\n",
    "    return [x for x in a if x**2 in a] \n",
    "result = function(a)\n",
    "print(result)  "
   ]
  },
  {
   "cell_type": "markdown",
   "id": "16805756",
   "metadata": {},
   "source": [
    "Built-in Functions:"
   ]
  },
  {
   "cell_type": "markdown",
   "id": "d88dfe91",
   "metadata": {},
   "source": [
    "#Describe the role of built-in functions like `len()`, `max()`, and `min()` in Python.\n",
    "min(): gives the smallest element in the tuple as an output. Hence, the name is min(). For example, max(): gives the largest element in the tuple as an output.\n",
    "        len() gives length"
   ]
  },
  {
   "cell_type": "code",
   "execution_count": 126,
   "id": "5b002660",
   "metadata": {},
   "outputs": [
    {
     "data": {
      "text/plain": [
       "[3, 4, 5, 6, 7, 8, 9, 10, 11]"
      ]
     },
     "execution_count": 126,
     "metadata": {},
     "output_type": "execute_result"
    }
   ],
   "source": [
    "#Write a Python program that uses the `map()` function to apply a function to each element of a list.\n",
    "l=[1,2,3,4,5,6,7,8,9]\n",
    "list(map(lambda a:a+2,l))"
   ]
  },
  {
   "cell_type": "raw",
   "id": "9757f597",
   "metadata": {},
   "source": [
    "#How does the `filter()` function work in Python, and when would you use it?\n",
    "The filter function can be applied to an iterable such as a list or a dictionary and create a new iterator. This new iterator can filter out certain specific elements based on the condition that you provide very efficiently"
   ]
  },
  {
   "cell_type": "code",
   "execution_count": 6,
   "id": "587ccaa6",
   "metadata": {},
   "outputs": [
    {
     "name": "stdout",
     "output_type": "stream",
     "text": [
      "6\n"
     ]
    }
   ],
   "source": [
    "#Create a Python program that uses the `reduce()` function to find the product of all elements in a listfromvitertools\n",
    "from functools import reduce\n",
    "list1 = [1, 2, 3]\n",
    "\n",
    "result1 = reduce((lambda x, y: x * y), list1)\n",
    "\n",
    "print(result1)\n"
   ]
  },
  {
   "cell_type": "markdown",
   "id": "bc2e0947",
   "metadata": {},
   "source": [
    "# Function Documentation and Best Practices:\n"
   ]
  },
  {
   "cell_type": "markdown",
   "id": "24f56fc8",
   "metadata": {},
   "source": [
    "#Explain the purpose of docstrings in Python functions and how to write them.\n",
    "\n",
    "Docstrings in Python functions serve the purpose of providing documentation and explanations for the function's behavior, inputs, and outputs. They are essential for making code more readable and understandable, especially for larger teams or for code that will be used in the future. To write a docstring, you simply add a triple-quoted string below the function definition, i"
   ]
  },
  {
   "cell_type": "markdown",
   "id": "e8fcc45e",
   "metadata": {},
   "source": [
    "#Describe some best practices for naming functions and variables in Python, including naming conventions and guidelines.\n",
    "\n",
    "In Python, it is common to use descriptive and consistent naming conventions for functions and variables. Some best practices include using lowercase letters with underscores (_) for separating words. It is also helpful to use single words for variables and variable names with meaningful words. Additionally, it is recommended to use CamelCase or snake_case for class and method names"
   ]
  },
  {
   "cell_type": "code",
   "execution_count": null,
   "id": "5b8d9715",
   "metadata": {},
   "outputs": [],
   "source": []
  }
 ],
 "metadata": {
  "kernelspec": {
   "display_name": "Python 3",
   "language": "python",
   "name": "python3"
  },
  "language_info": {
   "codemirror_mode": {
    "name": "ipython",
    "version": 3
   },
   "file_extension": ".py",
   "mimetype": "text/x-python",
   "name": "python",
   "nbconvert_exporter": "python",
   "pygments_lexer": "ipython3",
   "version": "3.8.8"
  }
 },
 "nbformat": 4,
 "nbformat_minor": 5
}
